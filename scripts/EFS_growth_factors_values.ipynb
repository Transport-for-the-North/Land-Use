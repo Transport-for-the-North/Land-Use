{
 "cells": [
  {
   "cell_type": "markdown",
   "metadata": {},
   "source": [
    "#### Script to produce growth values and growth factors for EFS at required segmentation"
   ]
  },
  {
   "cell_type": "code",
   "execution_count": null,
   "metadata": {},
   "outputs": [],
   "source": [
    "import pandas as pd\n",
    "from tqdm import tqdm"
   ]
  },
  {
   "cell_type": "code",
   "execution_count": null,
   "metadata": {},
   "outputs": [],
   "source": [
    "# POPULATION DATA:\n",
    "population_file_path = r'Y:\\NorMITs Demand\\inputs\\scenarios\\Population\\Population_growth_CSV'\n",
    "\n",
    "SC01_JAM_Population = pd.read_csv(population_file_path + '\\SC01_JAM_population_growth_MSOA.csv')\n",
    "SC02_PP_Population = pd.read_csv(population_file_path + '\\SC02_PP_population_growth_MSOA.csv')\n",
    "SC03_DD_Population = pd.read_csv(population_file_path + '\\SC03_DD_population_growth_MSOA.csv')\n",
    "SC04_UZC_Population = pd.read_csv(population_file_path + '\\SC04_UZC_population_growth_MSOA.csv')"
   ]
  },
  {
   "cell_type": "code",
   "execution_count": null,
   "metadata": {},
   "outputs": [],
   "source": [
    "# EMPLOYMENT DATA:\n",
    "employment_file_path = r'Y:\\NorMITs Demand\\inputs\\scenarios\\Employment\\Job_growth_CSV'\n",
    "\n",
    "SC01_JAM_Job = pd.read_csv(employment_file_path + '\\SC01_JAM_job_growth_MSOA.csv')\n",
    "SC02_PP_Job = pd.read_csv(employment_file_path + '\\SC02_PP_job_growth_MSOA.csv')\n",
    "SC03_DD_Job = pd.read_csv(employment_file_path + '\\SC03_DD_job_growth_MSOA.csv')\n",
    "SC04_UZC_Job = pd.read_csv(employment_file_path + '\\SC04_UZC_job_growth_MSOA.csv')"
   ]
  },
  {
   "cell_type": "code",
   "execution_count": null,
   "metadata": {},
   "outputs": [],
   "source": [
    "# Percentage of people per unique row for growth values calculation:\n",
    "segment_file_path = r'Y:\\NorMITs Demand\\inputs\\scenarios\\EFS inputs'\n",
    "\n",
    "# msoa,sec,soc (for population, from land use)\n",
    "sec_soc_segment = pd.read_csv(segment_file_path + '\\merged_totals.csv')\n",
    "\n",
    "# msoa,soc (for employment)\n",
    "soc_segment = pd.read_excel(segment_file_path + '\\SOC by skill (uplifted).xlsx', sheet_name = 'pivot')"
   ]
  },
  {
   "cell_type": "markdown",
   "metadata": {},
   "source": [
    "#### Growth values for EFS:  apply percentage splits producing output per MSOA, SEC, SOC (population) and MSOA,SOC growth values (employment) "
   ]
  },
  {
   "cell_type": "code",
   "execution_count": null,
   "metadata": {},
   "outputs": [],
   "source": [
    "def calculate_segmented_growth(inputdata, segmentation):\n",
    "    \n",
    "    inputdata = inputdata.copy()\n",
    "    segmentation = segmentation.copy()\n",
    "    \n",
    "    # merge % of people in each unique row to each scenario:\n",
    "    inputdata = pd.merge(segmentation, inputdata,\n",
    "                          left_on = ['msoa_zone_id'],\n",
    "                          right_on = ['msoa_zone_id'])\n",
    "    \n",
    "    \n",
    "    for year in range(int(2018), int(2051)):\n",
    "        inputdata[str(year)] = inputdata['% of MSOA_people_sum'] * inputdata[str(year)] / 100\n",
    "\n",
    "    # drop unnecessary cols        \n",
    "    cols_to_drop = ['MSOA people sum_x','North', 'Unique row people sum', 'Unique row people sum_y', \n",
    "                    'MSOA workers sum'] \n",
    "    for column_name in cols_to_drop:\n",
    "        if column_name in inputdata.columns:\n",
    "            inputdata.drop([column_name] , axis='columns', inplace=True)\n",
    "    \n",
    "    # tidy col names\n",
    "    inputdata.rename(columns = {'MSOA people sum_y':'MSOA_people_sum'}, inplace = True) \n",
    "    inputdata.rename(columns = {'soc_cat':'soc'}, inplace = True) \n",
    "    inputdata.rename(columns = {'ns_sec':'ns'}, inplace = True) \n",
    "\n",
    "    return inputdata\n",
    "    "
   ]
  },
  {
   "cell_type": "code",
   "execution_count": null,
   "metadata": {},
   "outputs": [],
   "source": [
    "SC01_JAM_pop_segments_growth = calculate_segmented_growth(SC01_JAM_Population, segmentation = sec_soc_segment)\n",
    "SC02_PP_pop_segments_growth = calculate_segmented_growth(SC02_PP_Population, segmentation = sec_soc_segment)\n",
    "SC03_DD_pop_segments_growth = calculate_segmented_growth(SC03_DD_Population, segmentation = sec_soc_segment)\n",
    "SC04_UZC_pop_segments_growth = calculate_segmented_growth(SC04_UZC_Population, segmentation = sec_soc_segment)"
   ]
  },
  {
   "cell_type": "code",
   "execution_count": null,
   "metadata": {},
   "outputs": [],
   "source": [
    "SC01_JAM_job_segments_growth = calculate_segmented_growth(SC01_JAM_Job, segmentation = soc_segment)\n",
    "SC02_PP_job_segments_growth = calculate_segmented_growth(SC02_PP_Job, segmentation = soc_segment)\n",
    "SC03_DD_job_segments_growth = calculate_segmented_growth(SC03_DD_Job, segmentation = soc_segment)\n",
    "SC04_UZC_job_segments_growth = calculate_segmented_growth(SC04_UZC_Job, segmentation = soc_segment)"
   ]
  },
  {
   "cell_type": "code",
   "execution_count": null,
   "metadata": {},
   "outputs": [],
   "source": [
    "# segmented outputs for population\n",
    "SC01_JAM_pop_segments_growth.to_csv('SC01_JAM_pop_segmented_EFS.csv', index=False)\n",
    "SC02_PP_pop_segments_growth.to_csv('SC02_PP_pop_segmented_EFS.csv', index=False)\n",
    "SC03_DD_pop_segments_growth.to_csv('SC03_DD_pop_segmented_EFS.csv', index=False)\n",
    "SC04_UZC_pop_segments_growth.to_csv('SC04_UZC_pop_segmented_EFS.csv', index=False)"
   ]
  },
  {
   "cell_type": "code",
   "execution_count": null,
   "metadata": {},
   "outputs": [],
   "source": [
    "# segmented outputs for jobs\n",
    "SC01_JAM_job_segments_growth.to_csv('SC01_JAM_job_segmented_EFS_soc.csv', index=False)\n",
    "SC02_PP_job_segments_growth.to_csv('SC02_PP_job_segmented_EFS_soc.csv', index=False)\n",
    "SC03_DD_job_segments_growth.to_csv('SC03_DD_job_segmented_EFS_soc.csv', index=False)\n",
    "SC04_UZC_job_segments_growth.to_csv('SC04_UZC_job_segmented_EFS_soc.csv', index=False)"
   ]
  },
  {
   "cell_type": "markdown",
   "metadata": {},
   "source": [
    "#### Calculate growth factors: future year/base year(2018) "
   ]
  },
  {
   "cell_type": "code",
   "execution_count": null,
   "metadata": {},
   "outputs": [],
   "source": [
    "def calculate_growth_factors(inputdata):\n",
    "    \n",
    "    inputdata = inputdata.copy()\n",
    "    \n",
    "    outputdata = inputdata.copy()\n",
    "    outputdata['2018'] = 1\n",
    "    \n",
    "    for year in range(int(2019), int(2051)):\n",
    "        outputdata[str(year)] = inputdata[str(year)] / inputdata[str(2018)]\n",
    "        \n",
    "        # if 0%, fill row with growth factors of 1\n",
    "        outputdata.loc[outputdata['% of MSOA_people_sum'] == 0, str(year)] = 1\n",
    "\n",
    "    return outputdata "
   ]
  },
  {
   "cell_type": "code",
   "execution_count": null,
   "metadata": {},
   "outputs": [],
   "source": [
    "GF_SC01_JAM_pop =  calculate_growth_factors(SC01_JAM_pop_segments_growth) \n",
    "GF_SC02_PP_pop =  calculate_growth_factors(SC02_PP_pop_segments_growth) \n",
    "GF_SC03_DD_pop =  calculate_growth_factors(SC03_DD_pop_segments_growth) \n",
    "GF_SC04_UZC_pop =  calculate_growth_factors(SC04_UZC_pop_segments_growth) "
   ]
  },
  {
   "cell_type": "code",
   "execution_count": null,
   "metadata": {},
   "outputs": [],
   "source": [
    "GF_SC01_JAM_jobs =  calculate_growth_factors(SC01_JAM_job_segments_growth) \n",
    "GF_SC02_PP_jobs =  calculate_growth_factors(SC02_PP_job_segments_growth) \n",
    "GF_SC03_DD_jobs =  calculate_growth_factors(SC03_DD_job_segments_growth) \n",
    "GF_SC04_UZC_jobs =  calculate_growth_factors(SC04_UZC_job_segments_growth) "
   ]
  },
  {
   "cell_type": "code",
   "execution_count": null,
   "metadata": {},
   "outputs": [],
   "source": [
    "GF_SC01_JAM_pop.to_csv('SC01_JAM_pop_growthfactors_EFS.csv', index=False)\n",
    "GF_SC02_PP_pop.to_csv('SC02_PP_pop_growthfactors_EFS.csv', index=False)\n",
    "GF_SC03_DD_pop.to_csv('SC03_DD_pop_growthfactors_EFS.csv', index=False)\n",
    "GF_SC04_UZC_pop.to_csv('SC04_UZC_pop_growthfactors_EFS.csv', index=False)"
   ]
  },
  {
   "cell_type": "code",
   "execution_count": null,
   "metadata": {},
   "outputs": [],
   "source": [
    "GF_SC01_JAM_jobs.to_csv('SC01_JAM_job_growthfactors_EFS_soc.csv', index=False)\n",
    "GF_SC02_PP_jobs.to_csv('SC02_PP_job_growthfactors_EFS_soc.csv', index=False)\n",
    "GF_SC03_DD_jobs.to_csv('SC03_DD_job_growthfactors_EFS_soc.csv', index=False)\n",
    "GF_SC04_UZC_jobs.to_csv('SC04_UZC_job_growthfactors_EFS_soc.csv', index=False)"
   ]
  }
 ],
 "metadata": {
  "kernelspec": {
   "display_name": "Python 3",
   "language": "python",
   "name": "python3"
  },
  "language_info": {
   "codemirror_mode": {
    "name": "ipython",
    "version": 3
   },
   "file_extension": ".py",
   "mimetype": "text/x-python",
   "name": "python",
   "nbconvert_exporter": "python",
   "pygments_lexer": "ipython3",
   "version": "3.7.6"
  }
 },
 "nbformat": 4,
 "nbformat_minor": 4
}
